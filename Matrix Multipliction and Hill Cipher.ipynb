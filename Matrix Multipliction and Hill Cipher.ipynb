{
 "cells": [
  {
   "cell_type": "code",
   "execution_count": 1,
   "id": "817333cc-c386-4502-9cf2-b39ef9d5d4d1",
   "metadata": {},
   "outputs": [],
   "source": [
    "import numpy as np"
   ]
  },
  {
   "cell_type": "code",
   "execution_count": 81,
   "id": "29eec013-dfe1-4674-90f0-9944a3394ce7",
   "metadata": {},
   "outputs": [
    {
     "data": {
      "text/plain": [
       "array([[11,  9],\n",
       "       [ 8, 17],\n",
       "       [ 2, 17]])"
      ]
     },
     "execution_count": 81,
     "metadata": {},
     "output_type": "execute_result"
    }
   ],
   "source": [
    "a = np.array([4,3,20])\n",
    "\n",
    "b = np.array([[11,9],[8,17],[2,17]])\n",
    "\n",
    "a\n",
    "b\n"
   ]
  },
  {
   "cell_type": "code",
   "execution_count": 79,
   "id": "a0c073bc-8795-4d08-83d3-e2e77141aeda",
   "metadata": {},
   "outputs": [
    {
     "data": {
      "text/plain": [
       "array([68, 87])"
      ]
     },
     "execution_count": 79,
     "metadata": {},
     "output_type": "execute_result"
    }
   ],
   "source": [
    "c = np.dot(a,b)\n",
    "c"
   ]
  },
  {
   "cell_type": "code",
   "execution_count": 65,
   "id": "9275aa94-b4af-4176-add9-7a5435e204b5",
   "metadata": {},
   "outputs": [
    {
     "name": "stdout",
     "output_type": "stream",
     "text": [
      "h: [[16  9]]\n"
     ]
    }
   ],
   "source": [
    "# Perform encryption using mod func.\n",
    "\n",
    "h = np.mod(c,26)\n",
    "print(\"h:\", h)"
   ]
  },
  {
   "cell_type": "code",
   "execution_count": 77,
   "id": "9d7c2160-0340-4676-b4ac-8feed262820b",
   "metadata": {},
   "outputs": [
    {
     "data": {
      "text/plain": [
       "array([20, 17])"
      ]
     },
     "execution_count": 77,
     "metadata": {},
     "output_type": "execute_result"
    }
   ],
   "source": [
    "e = np.array([20,17])\n",
    "e"
   ]
  },
  {
   "cell_type": "code",
   "execution_count": 75,
   "id": "005b80b2-bea7-4dce-a7aa-b63fa4365e2f",
   "metadata": {},
   "outputs": [
    {
     "data": {
      "text/plain": [
       "array([356, 469])"
      ]
     },
     "execution_count": 75,
     "metadata": {},
     "output_type": "execute_result"
    }
   ],
   "source": [
    "f = np.dot(e,b)\n",
    "f"
   ]
  },
  {
   "cell_type": "code",
   "execution_count": 87,
   "id": "21b487ec-16f1-43ca-8f4e-f8b6a03ac1fb",
   "metadata": {},
   "outputs": [
    {
     "name": "stdout",
     "output_type": "stream",
     "text": [
      "h1: [18  1]\n"
     ]
    }
   ],
   "source": [
    "h1 = np.mod(f,26)\n",
    "print(\"h1:\",h1)"
   ]
  },
  {
   "cell_type": "code",
   "execution_count": 73,
   "id": "6b2b8d68-04fe-4cb5-bd5c-d47a6fea7f64",
   "metadata": {},
   "outputs": [
    {
     "data": {
      "text/plain": [
       "array([ 4, 10])"
      ]
     },
     "execution_count": 73,
     "metadata": {},
     "output_type": "execute_result"
    }
   ],
   "source": [
    "g = np.array([4,10])\n",
    "g"
   ]
  },
  {
   "cell_type": "code",
   "execution_count": 71,
   "id": "0cd87640-29c0-43b3-a666-444333bc68de",
   "metadata": {},
   "outputs": [
    {
     "data": {
      "text/plain": [
       "array([124, 206])"
      ]
     },
     "execution_count": 71,
     "metadata": {},
     "output_type": "execute_result"
    }
   ],
   "source": [
    "i = np.dot(g,b)\n",
    "i"
   ]
  },
  {
   "cell_type": "code",
   "execution_count": 83,
   "id": "3cc7cc73-020c-42a4-a0f9-1a14bc1de1f2",
   "metadata": {},
   "outputs": [
    {
     "name": "stdout",
     "output_type": "stream",
     "text": [
      "h2: [ 4 10]\n"
     ]
    }
   ],
   "source": [
    "h2 = np.mod(g,26)\n",
    "print(\"h2:\",h2)"
   ]
  },
  {
   "cell_type": "code",
   "execution_count": 91,
   "id": "1fd65997-484d-4746-b04f-0f651f6c934d",
   "metadata": {},
   "outputs": [
    {
     "data": {
      "text/plain": [
       "(array([[16,  9]], dtype=int32),\n",
       " array([18,  1], dtype=int32),\n",
       " array([ 4, 10], dtype=int32))"
      ]
     },
     "execution_count": 91,
     "metadata": {},
     "output_type": "execute_result"
    }
   ],
   "source": [
    "h, h1, h2"
   ]
  },
  {
   "cell_type": "code",
   "execution_count": null,
   "id": "7d604c3a-02dc-4d46-8baf-48d05bd414f2",
   "metadata": {},
   "outputs": [],
   "source": []
  }
 ],
 "metadata": {
  "kernelspec": {
   "display_name": "Python 3 (ipykernel)",
   "language": "python",
   "name": "python3"
  },
  "language_info": {
   "codemirror_mode": {
    "name": "ipython",
    "version": 3
   },
   "file_extension": ".py",
   "mimetype": "text/x-python",
   "name": "python",
   "nbconvert_exporter": "python",
   "pygments_lexer": "ipython3",
   "version": "3.12.4"
  }
 },
 "nbformat": 4,
 "nbformat_minor": 5
}
